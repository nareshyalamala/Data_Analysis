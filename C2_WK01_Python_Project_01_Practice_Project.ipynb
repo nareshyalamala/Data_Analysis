{
 "cells": [
  {
   "cell_type": "markdown",
   "id": "4ZryyjNJBapS",
   "metadata": {
    "id": "4ZryyjNJBapS"
   },
   "source": [
    "![GL new logo .svg](data:image/svg+xml;base64,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)\n",
    "\n",
    "Proprietary content. © Great Learning. All Rights Reserved. Unauthorized use or distribution prohibited."
   ]
  },
  {
   "cell_type": "markdown",
   "id": "4018847a",
   "metadata": {
    "id": "4018847a"
   },
   "source": [
    "# Course 2 - Week 01 - Python Project 01 - Practice Project "
   ]
  },
  {
   "cell_type": "markdown",
   "id": "ddd12b7b",
   "metadata": {
    "id": "ddd12b7b"
   },
   "source": [
    "------------------------------------------------------------------------------------------------------------------------------"
   ]
  },
  {
   "cell_type": "markdown",
   "id": "179e03d2",
   "metadata": {
    "id": "179e03d2"
   },
   "source": [
    "### Learning Objective:\n",
    "- Variables and datatypes.\n",
    "- Data Structures, Operators.\n",
    "- Conditional statements & control flow\n"
   ]
  },
  {
   "cell_type": "markdown",
   "id": "c4defbf6",
   "metadata": {
    "id": "c4defbf6"
   },
   "source": [
    "-------------------------------------------------------------------------------------------------------------------------------"
   ]
  },
  {
   "cell_type": "markdown",
   "id": "5353877c",
   "metadata": {
    "id": "5353877c"
   },
   "source": [
    "### 1. Write the alphabets 'A', 'B', 'C' on new lines using a single print function."
   ]
  },
  {
   "cell_type": "code",
   "execution_count": 1,
   "id": "207a61ca",
   "metadata": {
    "id": "207a61ca",
    "outputId": "250abdf8-5a22-4f98-dfc7-3c14adac20e7"
   },
   "outputs": [
    {
     "name": "stdout",
     "output_type": "stream",
     "text": [
      "A\n",
      "B\n",
      "C\n"
     ]
    }
   ],
   "source": [
    "print(\"A\\nB\\nC\")\n",
    "\n"
   ]
  },
  {
   "cell_type": "markdown",
   "id": "b2d46ee1",
   "metadata": {
    "id": "b2d46ee1"
   },
   "source": [
    "### 2. Create a string, a numeric and boolean variables by assigning variable names. Further, check their datatype. For numeric variable check for whole numbers and numbers with decimal point."
   ]
  },
  {
   "cell_type": "code",
   "execution_count": 4,
   "id": "94ee43fb",
   "metadata": {},
   "outputs": [
    {
     "name": "stdout",
     "output_type": "stream",
     "text": [
      "<class 'str'> <class 'float'> <class 'bool'>\n",
      "decimal number\n"
     ]
    }
   ],
   "source": [
    "s='python'\n",
    "i=5.5\n",
    "b=True\n",
    "print(type(s),type(i),type(b))\n",
    "\n",
    "if type(i)==int:\n",
    "    print(\"whole number\")\n",
    "else:\n",
    "    print(\"decimal number\")"
   ]
  },
  {
   "cell_type": "markdown",
   "id": "ae545e18",
   "metadata": {
    "id": "ae545e18"
   },
   "source": [
    "### 3. Create a complex number and assign it the name 'comp_var' and check its datatype."
   ]
  },
  {
   "cell_type": "code",
   "execution_count": 5,
   "id": "b43926f2",
   "metadata": {
    "id": "b43926f2",
    "outputId": "83818875-4423-4a54-fdac-4d5e0e62b460"
   },
   "outputs": [
    {
     "data": {
      "text/plain": [
       "complex"
      ]
     },
     "execution_count": 5,
     "metadata": {},
     "output_type": "execute_result"
    }
   ],
   "source": [
    "comp_var=2+3j\n",
    "type(comp_var)"
   ]
  },
  {
   "cell_type": "markdown",
   "id": "7493bd91",
   "metadata": {
    "id": "7493bd91"
   },
   "source": [
    "### 4. Convert a float variable f = 88.63 to integer."
   ]
  },
  {
   "cell_type": "code",
   "execution_count": 5,
   "id": "7d837ef4",
   "metadata": {
    "id": "7d837ef4",
    "outputId": "dfefe3da-8bf3-4458-a26e-fd455ceef59a"
   },
   "outputs": [
    {
     "name": "stdout",
     "output_type": "stream",
     "text": [
      "88\n"
     ]
    }
   ],
   "source": [
    "f=88.63\n",
    "#int(f)\n",
    "print(int(f))"
   ]
  },
  {
   "cell_type": "markdown",
   "id": "85773ceb",
   "metadata": {
    "id": "85773ceb"
   },
   "source": [
    "### 5. Create a numeric variable and convert it to a string."
   ]
  },
  {
   "cell_type": "code",
   "execution_count": 15,
   "id": "fcd3b0c1",
   "metadata": {
    "id": "fcd3b0c1",
    "outputId": "05a8d5dd-cf82-4f5c-c512-d41a31047fd0"
   },
   "outputs": [
    {
     "data": {
      "text/plain": [
       "str"
      ]
     },
     "execution_count": 15,
     "metadata": {},
     "output_type": "execute_result"
    }
   ],
   "source": [
    "a=123\n",
    "type(a)\n",
    "str(a)\n",
    "type(str(a))\n",
    "#print(str(a))"
   ]
  },
  {
   "cell_type": "markdown",
   "id": "bd9aab69",
   "metadata": {
    "id": "bd9aab69"
   },
   "source": [
    "### 6. Create two strings and concatenate them using '+' operator."
   ]
  },
  {
   "cell_type": "code",
   "execution_count": 9,
   "id": "a96c991a",
   "metadata": {
    "id": "a96c991a",
    "outputId": "1f6a4ee4-308e-43e2-f8dd-ca95169254ec"
   },
   "outputs": [
    {
     "name": "stdout",
     "output_type": "stream",
     "text": [
      "nareshyalamala\n"
     ]
    }
   ],
   "source": [
    "s1=\"naresh\"\n",
    "s2=\"yalamala\"\n",
    "s3=(s1+s2)\n",
    "print(s3)"
   ]
  },
  {
   "cell_type": "markdown",
   "id": "5545b93d",
   "metadata": {
    "id": "5545b93d"
   },
   "source": [
    "### 7. Create a string with the name 'Bengaluru' and 'Great Learning' as its element. Perform the following on it:\n",
    "- Find its length.\n",
    "- Extract it first two letters."
   ]
  },
  {
   "cell_type": "code",
   "execution_count": 10,
   "id": "79019074",
   "metadata": {
    "id": "79019074",
    "outputId": "ce04ea7a-582b-4c3a-af85-658f6ca44456"
   },
   "outputs": [
    {
     "name": "stdout",
     "output_type": "stream",
     "text": [
      "Be\n",
      "Gr\n"
     ]
    }
   ],
   "source": [
    "n1='Bengaluru'\n",
    "n2='Great Learning'\n",
    "len(n1)\n",
    "len(n2)\n",
    "print(n1[0:2])\n",
    "print(n2[0:2])"
   ]
  },
  {
   "cell_type": "markdown",
   "id": "b1722f8a",
   "metadata": {
    "id": "b1722f8a"
   },
   "source": [
    "### 8. Given the string 'Today is a rainy day.'\n",
    "- Write a code to get 'is' and 'day'.\n",
    "- Obtain the last two letters.\n",
    "- Write the statement backwards."
   ]
  },
  {
   "cell_type": "code",
   "execution_count": 8,
   "id": "394bff2e",
   "metadata": {},
   "outputs": [
    {
     "name": "stdout",
     "output_type": "stream",
     "text": [
      "yad yniar a si yadoT\n"
     ]
    },
    {
     "data": {
      "text/plain": [
       "'day'"
      ]
     },
     "execution_count": 8,
     "metadata": {},
     "output_type": "execute_result"
    }
   ],
   "source": [
    "s='Today is a rainy day'\n",
    "#s.find('is')\n",
    "#s.find('day')\n",
    "s[-2:-1]\n",
    "s[-2:]\n",
    "#s.endswith(\"day\")\n",
    "print(s[::-1])\n",
    "\n",
    "l=s.split(' ')\n",
    "l[1]\n",
    "l[-1]"
   ]
  },
  {
   "cell_type": "markdown",
   "id": "060f7dd9",
   "metadata": {
    "id": "060f7dd9"
   },
   "source": [
    "### 9. Write a program to perform following list operations on the list given below:\n",
    "\n",
    "- a. Check the length of mix_list_1\n",
    "- b. Check the membership of 'Data' in mix_list_1\n",
    "- c. Concatenate the mix_list_1 and mix_list_2\n",
    "- d. Repeat the mix_list_2 two times"
   ]
  },
  {
   "cell_type": "markdown",
   "id": "63b36c9e",
   "metadata": {
    "id": "63b36c9e"
   },
   "source": [
    "**Lists to perform operations:**\n",
    "\n",
    "mix_list_1 = ['Data', 'Analysis', 100, 'Python', True, 9098]\n",
    "\n",
    "mix_list_2 = ['List operations', 101, 789]"
   ]
  },
  {
   "cell_type": "code",
   "execution_count": 10,
   "id": "d20055eb",
   "metadata": {
    "id": "d20055eb"
   },
   "outputs": [
    {
     "name": "stdout",
     "output_type": "stream",
     "text": [
      "6\n",
      "['Data', 'Analysis', 100, 'Python', True, 9098, 'List operations', 101, 789]\n",
      "['List operations', 101, 789, 'List operations', 101, 789]\n"
     ]
    }
   ],
   "source": [
    "mix_list_1 = ['Data', 'Analysis', 100, 'Python', True, 9098]\n",
    "\n",
    "mix_list_2 = ['List operations', 101, 789]\n",
    "#len\n",
    "print(len(mix_list_1))\n",
    "\n",
    "#concatenate \n",
    "s=mix_list_1 + mix_list_2\n",
    "print(s)\n",
    "#check 'Data' membership in mix_list1\n",
    "mix_list_1[0]\n",
    "'Data' in mix_list_1\n",
    "#Repeat the mix_list2 two times\n",
    "mix_list_2=mix_list_2*2\n",
    "print(mix_list_2)"
   ]
  },
  {
   "cell_type": "code",
   "execution_count": 11,
   "id": "5063c982",
   "metadata": {},
   "outputs": [
    {
     "data": {
      "text/plain": [
       "True"
      ]
     },
     "execution_count": 11,
     "metadata": {},
     "output_type": "execute_result"
    }
   ],
   "source": [
    "'Data' in mix_list_1\n"
   ]
  },
  {
   "cell_type": "markdown",
   "id": "745612e9",
   "metadata": {
    "id": "745612e9"
   },
   "source": [
    "### 10. Write the program to multiply the two lists. (Hint: make use of zip function)"
   ]
  },
  {
   "cell_type": "markdown",
   "id": "2a467ed8",
   "metadata": {
    "id": "2a467ed8"
   },
   "source": [
    "**Lists to perform multiplication:**\n",
    "\n",
    "num_list_1 = [10, 20, 30, 40]\n",
    "\n",
    "num_list_2 = [2, 2, 2, 2]"
   ]
  },
  {
   "cell_type": "code",
   "execution_count": 40,
   "id": "7bd5221b",
   "metadata": {},
   "outputs": [
    {
     "name": "stdout",
     "output_type": "stream",
     "text": [
      "[20, 40, 60, 80]\n"
     ]
    }
   ],
   "source": [
    "num_list_1 = [10, 20, 30, 40]\n",
    "num_list_2 = [2, 2, 2, 2]\n",
    "\n",
    "#list1 = [1, 2, 3]\n",
    "#list2 = [4, 5, 6]\n",
    "\n",
    "res = []\n",
    "\n",
    "for i1, i2 in zip(num_list_1, num_list_2):\n",
    "    res.append(i1 * i2)\n",
    "\n",
    "print(res)"
   ]
  },
  {
   "cell_type": "code",
   "execution_count": 2,
   "id": "a1967546",
   "metadata": {},
   "outputs": [
    {
     "ename": "TypeError",
     "evalue": "'list' object is not callable",
     "output_type": "error",
     "traceback": [
      "\u001b[1;31m---------------------------------------------------------------------------\u001b[0m",
      "\u001b[1;31mTypeError\u001b[0m                                 Traceback (most recent call last)",
      "Cell \u001b[1;32mIn[2], line 8\u001b[0m\n\u001b[0;32m      5\u001b[0m res\u001b[38;5;241m=\u001b[39m[]\n\u001b[0;32m      6\u001b[0m \u001b[38;5;28;01mfor\u001b[39;00m i \u001b[38;5;129;01min\u001b[39;00m \u001b[38;5;28mrange\u001b[39m(\u001b[38;5;241m4\u001b[39m):\n\u001b[0;32m      7\u001b[0m     \u001b[38;5;66;03m#print(i)\u001b[39;00m\n\u001b[1;32m----> 8\u001b[0m     \u001b[38;5;28mprint\u001b[39m(\u001b[43mnum_list_1\u001b[49m\u001b[43m(\u001b[49m\u001b[43mi\u001b[49m\u001b[43m)\u001b[49m \u001b[38;5;241m*\u001b[39m num_list_2(i))\n",
      "\u001b[1;31mTypeError\u001b[0m: 'list' object is not callable"
     ]
    }
   ],
   "source": [
    "num_list_1 = [10, 20, 30, 40]\n",
    "num_list_2 = [2, 2, 2, 2]\n",
    "n=len(num_list_1) #n=4\n",
    "\n",
    "res=[]\n",
    "for i in range(4):\n",
    "    #print(i)\n",
    "    print(num_list_1(i) * num_list_2(i))\n"
   ]
  },
  {
   "cell_type": "markdown",
   "id": "9b0e9c16",
   "metadata": {
    "id": "9b0e9c16"
   },
   "source": [
    "### 11. Write a program to perform following built-in list operations:\n",
    "\n",
    "- a. Minimum element of the list\n",
    "- b. Maximum element of the list\n",
    "- c. Sort the elements (use sort() and sorted() function)\n",
    "- d. Create a copy of a list\n",
    "- e. Remove element '-79' from the list"
   ]
  },
  {
   "cell_type": "markdown",
   "id": "fa19a2c9",
   "metadata": {
    "id": "fa19a2c9"
   },
   "source": [
    "**Use the below list**\n",
    "\n",
    "num_list = [90, 83, -79, 10, 0, 12]"
   ]
  },
  {
   "cell_type": "code",
   "execution_count": 16,
   "id": "caf406a5",
   "metadata": {
    "id": "caf406a5"
   },
   "outputs": [
    {
     "name": "stdout",
     "output_type": "stream",
     "text": [
      "[-79, 0, 10, 12, 83, 90]\n",
      "[0, 10, 12, 83, 90]\n",
      "min value element :  0\n",
      "max value element :  90\n"
     ]
    }
   ],
   "source": [
    "num_list = [90, 83, -79, 10, 0, 12]\n",
    "#sort() sorted fun\n",
    "num_list.sort()\n",
    "sorted(num_list)\n",
    "print(num_list)\n",
    "#copy of a list\n",
    "num_list.copy()\n",
    "#remove element '-79'\n",
    "num_list.remove(-79)\n",
    "print(num_list)\n",
    "#min value in list\n",
    "print(\"min value element : \", min(num_list))\n",
    "#max value in list\n",
    "print(\"max value element : \", max(num_list))"
   ]
  },
  {
   "cell_type": "markdown",
   "id": "5331f801",
   "metadata": {
    "id": "5331f801"
   },
   "source": [
    "### 12. Manipulating a list:\n",
    "\n",
    "- a. Add a new element 'Boolean' at index location 0 in the given list\n",
    "- b. Replace an element 'sets' with 'string' in the given list\n",
    "- c. Add elements 'int' and 'complex' to the given list"
   ]
  },
  {
   "cell_type": "markdown",
   "id": "85c3c24f",
   "metadata": {
    "id": "85c3c24f"
   },
   "source": [
    "#### Use the below list\n",
    "\n",
    "datatypes_list = ['list', 'tuples', 'dictionary', 'sets']"
   ]
  },
  {
   "cell_type": "code",
   "execution_count": 64,
   "id": "f47eb30e",
   "metadata": {
    "id": "f47eb30e"
   },
   "outputs": [
    {
     "name": "stdout",
     "output_type": "stream",
     "text": [
      "['Boolean', 'list', 'tuples', 'dictionary', 'sets']\n",
      "['Boolean', 'list', 'tuples', 'dictionary', 'string']\n",
      "['Boolean', 'list', 'tuples', 'dictionary', 'string', 'int']\n",
      "['Boolean', 'list', 'tuples', 'dictionary', 'string', 'int', 'complex']\n"
     ]
    }
   ],
   "source": [
    "datatypes_list = ['list', 'tuples', 'dictionary', 'sets']\n",
    "#Add a new element 'Boolean' at index location 0 in the given list\n",
    "datatypes_list.insert(0,'Boolean')\n",
    "print(datatypes_list)\n",
    "#Replace an element 'sets' with 'string' in the given list\n",
    "datatypes_list[4]='string'\n",
    "print(datatypes_list)\n",
    "#Add elements 'int' and 'complex' to the given list\n",
    "datatypes_list.append('int')\n",
    "print(datatypes_list)\n",
    "datatypes_list.append('complex')\n",
    "print(datatypes_list)\n",
    "\n",
    "\n"
   ]
  },
  {
   "cell_type": "markdown",
   "id": "25a1e62a",
   "metadata": {
    "id": "25a1e62a"
   },
   "source": [
    "### 13. Write a code to perform operations on tuple:\n",
    "\n",
    "- a. Check the length of num_tuple\n",
    "- b. Concatenate the num_tuple and mix_tuple\n",
    "- c. Repeat the mix_tuple two times"
   ]
  },
  {
   "cell_type": "markdown",
   "id": "81e233da",
   "metadata": {
    "id": "81e233da"
   },
   "source": [
    "**Tuples to perform operations:**\n",
    "\n",
    "num_tuple = (23, 43, 56)\n",
    "\n",
    "mix_tuple = (-90, 'string', 979)"
   ]
  },
  {
   "cell_type": "code",
   "execution_count": 67,
   "id": "9422682c",
   "metadata": {
    "id": "9422682c"
   },
   "outputs": [
    {
     "name": "stdout",
     "output_type": "stream",
     "text": [
      "3\n",
      "(23, 43, 56, -90, 'string', 979)\n",
      "(-90, 'string', 979, -90, 'string', 979)\n"
     ]
    }
   ],
   "source": [
    "num_tuple = (23, 43, 56)\n",
    "\n",
    "mix_tuple = (-90, 'string', 979)\n",
    "#Check the length of num_tuple\n",
    "print(len(num_tuple))\n",
    "#Concatenate the num_tuple and mix_tuple\n",
    "s=num_tuple+mix_tuple\n",
    "print(s)\n",
    "#Repeat the mix_tuple two times\n",
    "\n",
    "s1=mix_tuple*2\n",
    "print(s1)"
   ]
  },
  {
   "cell_type": "markdown",
   "id": "29ac7960",
   "metadata": {
    "id": "29ac7960"
   },
   "source": [
    "### 14. Replace the elements in the given tuple:\n",
    "\n",
    "- Replace 'sets' with 'strings'"
   ]
  },
  {
   "cell_type": "markdown",
   "id": "9b11570c",
   "metadata": {
    "id": "9b11570c"
   },
   "source": [
    "**Use the tuple below:**\n",
    "\n",
    "my_tuple = ('list', 'sets', 'dict', 'tuple')"
   ]
  },
  {
   "cell_type": "code",
   "execution_count": 72,
   "id": "001f77fd",
   "metadata": {
    "id": "001f77fd"
   },
   "outputs": [
    {
     "name": "stdout",
     "output_type": "stream",
     "text": [
      "['list', 'strings', 'dict', 'tuple']\n"
     ]
    }
   ],
   "source": [
    "my_tuple = ('list', 'sets', 'dict', 'tuple')\n",
    "l=list(my_tuple)\n",
    "type(l)\n",
    "l[1]='strings'\n",
    "print(l)"
   ]
  },
  {
   "cell_type": "markdown",
   "id": "0c4eafab",
   "metadata": {
    "id": "0c4eafab"
   },
   "source": [
    "### 15. Write the program to perform following manipulations:\n",
    "\n",
    "- a. Add '789' to the given set\n",
    "- b. Remove '10' from a given set\n",
    "- c. Clear the set"
   ]
  },
  {
   "cell_type": "markdown",
   "id": "d9adf01d",
   "metadata": {
    "id": "d9adf01d"
   },
   "source": [
    "**Use the below set for manipulation**\n",
    "\n",
    "my_set = {10, 67, 45, 89, 90}"
   ]
  },
  {
   "cell_type": "code",
   "execution_count": 77,
   "id": "725ba469",
   "metadata": {
    "id": "725ba469"
   },
   "outputs": [
    {
     "name": "stdout",
     "output_type": "stream",
     "text": [
      "{67, 90, '789', 89, 10, 45}\n",
      "{67, 90, '789', 89, 45}\n",
      "set()\n"
     ]
    }
   ],
   "source": [
    "my_set = {10, 67, 45, 89, 90}\n",
    "#Add '789' to the given set\n",
    "my_set.add('789')\n",
    "print(my_set)\n",
    "#Remove '10' from a given set\n",
    "my_set.remove(10)\n",
    "print(my_set)\n",
    "#Clear the set\n",
    "my_set.clear()\n",
    "print(my_set)"
   ]
  },
  {
   "cell_type": "markdown",
   "id": "097560dd",
   "metadata": {
    "id": "097560dd"
   },
   "source": [
    "### 16. Create two sets of words from the given sentences and perform the following operations:\n",
    "\n",
    "- a. Find the count of unique words in each of the sentence\n",
    "- b. Find the common words in both the sentences"
   ]
  },
  {
   "cell_type": "markdown",
   "id": "b2322303",
   "metadata": {
    "id": "b2322303"
   },
   "source": [
    "**Use the sentences given below:**\n",
    "    \n",
    "sentence_1 = 'Let us perform some set operations' \n",
    "\n",
    "sentence_2 = 'set is one of the inbuilt datatype in python'"
   ]
  },
  {
   "cell_type": "code",
   "execution_count": 80,
   "id": "f11135a1",
   "metadata": {
    "id": "f11135a1",
    "outputId": "53ce3e34-9cde-41f7-fb97-d951c5ded916"
   },
   "outputs": [
    {
     "name": "stdout",
     "output_type": "stream",
     "text": [
      "{'set'}\n",
      "{'Let', 'perform', 'in', 'operations', 'one', 'some', 'inbuilt', 'is', 'datatype', 'python', 'us', 'of', 'the'}\n"
     ]
    }
   ],
   "source": [
    "sentence_1 = 'Let us perform some set operations'\n",
    "\n",
    "sentence_2 = 'set is one of the inbuilt datatype in python'\n",
    "\n",
    "# Find the count of unique words in each of the sentence\n",
    "\n",
    "sentence_1 = sentence_1.split()\n",
    "sentence_2 = sentence_2.split()\n",
    "\n",
    "common = set(sentence_1).intersection( set(sentence_2) )\n",
    "print(common)\n",
    "\n",
    "unique = set(sentence_1).symmetric_difference( set(sentence_2) )\n",
    "print(unique)"
   ]
  },
  {
   "cell_type": "code",
   "execution_count": 18,
   "id": "90b21f7d",
   "metadata": {},
   "outputs": [
    {
     "data": {
      "text/plain": [
       "6"
      ]
     },
     "execution_count": 18,
     "metadata": {},
     "output_type": "execute_result"
    }
   ],
   "source": [
    "sentence_1 = 'Let us perform some set operations'\n",
    "\n",
    "sentence_2 = 'set is one of the inbuilt datatype in python'\n",
    "\n",
    "ls1=set(sentence_1.split())\n",
    "len(ls1)\n"
   ]
  },
  {
   "cell_type": "code",
   "execution_count": 19,
   "id": "99a6ef4e",
   "metadata": {},
   "outputs": [
    {
     "data": {
      "text/plain": [
       "9"
      ]
     },
     "execution_count": 19,
     "metadata": {},
     "output_type": "execute_result"
    }
   ],
   "source": [
    "ls2=set(sentence_2.split())\n",
    "len(ls2)"
   ]
  },
  {
   "cell_type": "markdown",
   "id": "48b495c8",
   "metadata": {
    "id": "48b495c8"
   },
   "source": [
    "### 17. Write a program to perform following set operations:\n",
    "\n",
    "- a. Union\n",
    "- b. Intersection\n",
    "- c. Set of all the elements of set A that are not in set B\n",
    "- d. Set of all the elements of set B that are not in set A"
   ]
  },
  {
   "cell_type": "markdown",
   "id": "9b4fedb9",
   "metadata": {
    "id": "9b4fedb9"
   },
   "source": [
    "**Use the below set:**\n",
    "\n",
    "A = {27, 19, 82, 76, 89, 34, 66, 89}\n",
    "\n",
    "B = {12, 70, 66, 76, 22}"
   ]
  },
  {
   "cell_type": "code",
   "execution_count": 87,
   "id": "a97f672f",
   "metadata": {
    "id": "a97f672f"
   },
   "outputs": [
    {
     "name": "stdout",
     "output_type": "stream",
     "text": [
      "{34, 66, 70, 76, 12, 82, 19, 22, 89, 27}\n",
      "{66, 76}\n",
      "{34, 82, 19, 89, 27}\n"
     ]
    }
   ],
   "source": [
    "A = {27, 19, 82, 76, 89, 34, 66, 89}\n",
    "\n",
    "B = {12, 70, 66, 76, 22}\n",
    "#Union\n",
    "C=A.union(B)\n",
    "print(C)\n",
    "#Intersection\n",
    "D=A.intersection(B)\n",
    "print(D)\n",
    "\n",
    "#Set of all the elements of set A that are not in set B\n",
    "E=A.difference(B)\n",
    "print(E)\n"
   ]
  },
  {
   "cell_type": "markdown",
   "id": "0a0018d0",
   "metadata": {
    "id": "0a0018d0"
   },
   "source": [
    "### 18. Write a code to add a key to a dictionary\n"
   ]
  },
  {
   "cell_type": "markdown",
   "id": "b942a38d",
   "metadata": {
    "id": "b942a38d"
   },
   "source": [
    "**Use the given dictionary and add a key (20:4)**\n",
    "\n",
    "my_dict = {100:10, 200:20, 300:30}"
   ]
  },
  {
   "cell_type": "code",
   "execution_count": 101,
   "id": "088bad14",
   "metadata": {
    "id": "088bad14",
    "outputId": "52573274-1c6e-4fe6-fe1c-7b4d51706ca6"
   },
   "outputs": [
    {
     "name": "stdout",
     "output_type": "stream",
     "text": [
      "{100: 10, 200: 20, 300: 30, 20: 4}\n"
     ]
    }
   ],
   "source": [
    "my_dict = {100:10, 200:20, 300:30}\n",
    "my_dict[20] = 4\n",
    "print(my_dict)\n"
   ]
  },
  {
   "cell_type": "markdown",
   "id": "1dda0e3b",
   "metadata": {
    "id": "1dda0e3b"
   },
   "source": [
    "### 19. Write a program to retrieve the keys/values of dictionary"
   ]
  },
  {
   "cell_type": "markdown",
   "id": "0550d6cf",
   "metadata": {
    "id": "0550d6cf"
   },
   "source": [
    "**Use the dictionary**\n",
    "\n",
    "mix_dictionary = {'Fruits':''Apple','Quanitity':12, 'Veggies':'Broccoli','Price':20 }"
   ]
  },
  {
   "cell_type": "code",
   "execution_count": 124,
   "id": "755bea3f",
   "metadata": {},
   "outputs": [
    {
     "ename": "SyntaxError",
     "evalue": "unterminated string literal (detected at line 1) (2834368249.py, line 1)",
     "output_type": "error",
     "traceback": [
      "\u001b[1;36m  Cell \u001b[1;32mIn[124], line 1\u001b[1;36m\u001b[0m\n\u001b[1;33m    mix_dictionary = {'Fruits':''Apple','Quanitity':12, 'Veggies':'Broccoli','price':20}\u001b[0m\n\u001b[1;37m                                                                                   ^\u001b[0m\n\u001b[1;31mSyntaxError\u001b[0m\u001b[1;31m:\u001b[0m unterminated string literal (detected at line 1)\n"
     ]
    }
   ],
   "source": [
    "mix_dictionary = {'Fruits':''Apple','Quanitity':12, 'Veggies':'Broccoli','price':20}\n",
    "mix_dictionary.             "
   ]
  },
  {
   "cell_type": "code",
   "execution_count": 23,
   "id": "d1015f66",
   "metadata": {},
   "outputs": [
    {
     "data": {
      "text/plain": [
       "dict_values(['Apple', 12, 'Broccoli', 20])"
      ]
     },
     "execution_count": 23,
     "metadata": {},
     "output_type": "execute_result"
    }
   ],
   "source": [
    "mix_dictionary = {'Fruits':'Apple','Quanitity':12, 'Veggies':'Broccoli','Price':20 }\n",
    "mix_dictionary.keys()\n",
    "mix_dictionary.values()\n",
    "                  "
   ]
  },
  {
   "cell_type": "markdown",
   "id": "9c86ace2",
   "metadata": {
    "id": "9c86ace2"
   },
   "source": [
    "### 20. Write a program to get the value for 'Age' from the dictionary"
   ]
  },
  {
   "cell_type": "markdown",
   "id": "c8a23757",
   "metadata": {
    "id": "c8a23757"
   },
   "source": [
    "**Use the dictionary**\n",
    "\n",
    "emp_record = {'Weight': 67, 'BMI': 25, 'Age': 27, 'Profession': 'CA'}"
   ]
  },
  {
   "cell_type": "code",
   "execution_count": 108,
   "id": "91d9085b",
   "metadata": {
    "id": "91d9085b",
    "outputId": "9dddc4cb-5dbe-4a91-a505-f84228d83a0b"
   },
   "outputs": [
    {
     "data": {
      "text/plain": [
       "27"
      ]
     },
     "execution_count": 108,
     "metadata": {},
     "output_type": "execute_result"
    }
   ],
   "source": [
    "emp_record = {'Weight': 67, 'BMI': 25, 'Age': 27, 'Profession': 'CA'}\n",
    "emp_record.get('Age')"
   ]
  },
  {
   "cell_type": "markdown",
   "id": "634b2c04",
   "metadata": {
    "id": "634b2c04"
   },
   "source": [
    "### 21. Write a program to create a dictionary using given keys and values. (Hint: make use of zip function)"
   ]
  },
  {
   "cell_type": "markdown",
   "id": "3e58cb53",
   "metadata": {
    "id": "3e58cb53"
   },
   "source": [
    "**Use the keys and values to create a dictionary**\n",
    "\n",
    "keys = ['Fruits', 'Quanitity', 'Veggies', 'Price']\n",
    "\n",
    "values = ['Apple', 12, 'Broccoli', 20]"
   ]
  },
  {
   "cell_type": "code",
   "execution_count": 120,
   "id": "0f01cc93",
   "metadata": {
    "id": "0f01cc93",
    "outputId": "e8049865-ed6e-419e-db9c-4f41c8f75ff5"
   },
   "outputs": [
    {
     "name": "stdout",
     "output_type": "stream",
     "text": [
      "{'Fruits': 'Apple', 'Quanitity': 12, 'Veggies': 'Broccoli', 'Price': 20}\n"
     ]
    }
   ],
   "source": [
    "keys = ['Fruits', 'Quanitity', 'Veggies', 'Price']\n",
    "\n",
    "values = ['Apple', 12, 'Broccoli', 20]\n",
    "d = {k:v for k,v in zip(keys,values)}\n",
    "print(d)\n"
   ]
  },
  {
   "cell_type": "markdown",
   "id": "a2f44ae5",
   "metadata": {
    "id": "a2f44ae5"
   },
   "source": [
    "### 22. Set the city of an customer as 'Bangalore' in the given customer record"
   ]
  },
  {
   "cell_type": "markdown",
   "id": "f8615693",
   "metadata": {
    "id": "f8615693"
   },
   "source": [
    "**Use the dictionary**\n",
    "\n",
    "cust_record = {'Cust_ID': 'C001', 'Phno': 9880790675, 'Age': 22, 'Profession': 'Data analyst'}"
   ]
  },
  {
   "cell_type": "code",
   "execution_count": 116,
   "id": "7d0418e5",
   "metadata": {
    "id": "7d0418e5"
   },
   "outputs": [
    {
     "name": "stdout",
     "output_type": "stream",
     "text": [
      "{'Cust_ID': 'C001', 'Phno': 9880790675, 'Age': 22, 'Profession': 'Data analyst', 'City': 'Bangalore'}\n"
     ]
    }
   ],
   "source": [
    "cust_record = {'Cust_ID': 'C001', 'Phno': 9880790675, 'Age': 22, 'Profession': 'Data analyst'}\n",
    "cust_record['City']='Bangalore'\n",
    "print(cust_record)\n"
   ]
  },
  {
   "cell_type": "markdown",
   "id": "6ee4a581",
   "metadata": {
    "id": "6ee4a581"
   },
   "source": [
    "### 23. Write a program to check whether a given number is multiple of 7 (use if statement)"
   ]
  },
  {
   "cell_type": "code",
   "execution_count": 21,
   "id": "7388a678",
   "metadata": {
    "id": "7388a678",
    "outputId": "07de1521-65b6-420c-9c9d-6e74e4a1a431"
   },
   "outputs": [
    {
     "name": "stdout",
     "output_type": "stream",
     "text": [
      "Enter the num6\n",
      "The given number is multiply with 7\n"
     ]
    }
   ],
   "source": [
    "Num=int(input(\"Enter the num\"))\n",
    "if Num*7:\n",
    "    print('The given number is multiply with 7')\n",
    "#else:\n",
    "   # print('The given number is not multiply with 7')\n",
    "    "
   ]
  },
  {
   "cell_type": "markdown",
   "id": "2f7c8ac7",
   "metadata": {
    "id": "2f7c8ac7"
   },
   "source": [
    "### 24. Write a code to print the maximum of two numbers (use if-else). Take input from the user."
   ]
  },
  {
   "cell_type": "code",
   "execution_count": 24,
   "id": "010f5619",
   "metadata": {
    "id": "010f5619",
    "outputId": "28c782fa-e42c-4bbb-d3b6-0f94ff30d99c"
   },
   "outputs": [
    {
     "name": "stdout",
     "output_type": "stream",
     "text": [
      "Enter number8\n",
      "Enter number6\n",
      "maxmum number\n"
     ]
    }
   ],
   "source": [
    "a=int(input(\"Enter number\"))\n",
    "b=int(input(\"Enter number\"))\n",
    "if a>b:\n",
    "    print(\"maxmum number\")\n",
    "else:\n",
    "    print(\"it's not a max num\")"
   ]
  },
  {
   "cell_type": "markdown",
   "id": "b726a902",
   "metadata": {
    "id": "b726a902"
   },
   "source": [
    "### 25. Write a program to check whether a number is positive, negative or zero (use if-elif). Take input from the user"
   ]
  },
  {
   "cell_type": "code",
   "execution_count": 30,
   "id": "92afd322",
   "metadata": {
    "id": "92afd322",
    "outputId": "f173ca56-8b7d-464d-c96c-9d1a5fff671a"
   },
   "outputs": [
    {
     "name": "stdout",
     "output_type": "stream",
     "text": [
      "Input a number: 0\n",
      "It is Zero\n"
     ]
    }
   ],
   "source": [
    "num = int(input(\"Input a number: \"))\n",
    "if num > 0:\n",
    "   print(\"It is positive number\")\n",
    "elif num == 0:\n",
    "   print(\"It is Zero\")\n",
    "else:\n",
    "   print(\"It is a negative number\")"
   ]
  },
  {
   "cell_type": "markdown",
   "id": "d0b27717",
   "metadata": {
    "id": "d0b27717"
   },
   "source": [
    "### 26. Write a program for generating a fibonacci series starting with 0 and 1 for the next 10 values using a while loop."
   ]
  },
  {
   "cell_type": "code",
   "execution_count": 21,
   "id": "a1a64f37",
   "metadata": {
    "id": "a1a64f37",
    "outputId": "57cd0a2f-723c-44c4-c010-cd36b61b8c9c"
   },
   "outputs": [
    {
     "name": "stdout",
     "output_type": "stream",
     "text": [
      "enter number5\n",
      "0\n",
      "1\n",
      "1\n",
      "2\n",
      "3\n"
     ]
    }
   ],
   "source": [
    "n = int(input(\"enter number\"))\n",
    "a = 0\n",
    "b = 1\n",
    "\n",
    "while n>0:\n",
    "    print(a)\n",
    "    c=a+b\n",
    "    a=b\n",
    "    b=c\n",
    "    n=n-1"
   ]
  },
  {
   "cell_type": "markdown",
   "id": "2021d08f",
   "metadata": {
    "id": "2021d08f"
   },
   "source": [
    "### 27. Write a code to find factorial of a number (take the input from user)."
   ]
  },
  {
   "cell_type": "code",
   "execution_count": 18,
   "id": "301fe710",
   "metadata": {
    "id": "301fe710",
    "outputId": "ed6afe72-9998-44a8-95e0-f52829017f07"
   },
   "outputs": [
    {
     "name": "stdout",
     "output_type": "stream",
     "text": [
      "Enter number6\n",
      "1\n",
      "2\n",
      "6\n",
      "24\n",
      "120\n",
      "720\n"
     ]
    }
   ],
   "source": [
    "a=int(input(\"Enter number\"))\n",
    "fact=1\n",
    "for i in range(1,a+1):\n",
    "    fact=fact*i\n",
    "    print(fact)"
   ]
  },
  {
   "cell_type": "markdown",
   "id": "02234b69",
   "metadata": {
    "id": "02234b69"
   },
   "source": [
    "### 28. Write a program to check whether a number is prime or not (take the input from user)"
   ]
  },
  {
   "cell_type": "code",
   "execution_count": 10,
   "id": "ec6a1ca3",
   "metadata": {
    "id": "ec6a1ca3",
    "outputId": "d29eeec1-5ff1-40b5-c0f1-3b6d723d9504"
   },
   "outputs": [
    {
     "name": "stdout",
     "output_type": "stream",
     "text": [
      "Enter the number5\n"
     ]
    }
   ],
   "source": [
    "n=int(input(\"Enter the number\"))\n",
    "if n > 1:\n",
    "\tfor i in range(2, int(n/2)+1):\n",
    "\t\tif (n % i) == 0:\n",
    "\t\t\tprint(n, \"is not a prime number\")\n",
    "\t\tbreak\n",
    "\telse:\n",
    "\t\tprint(n, \"is a prime number\")\n",
    "# If the number is less than 1, its also not a prime number.\n",
    "else:\n",
    "\tprint(n, \"is not a prime number\")"
   ]
  },
  {
   "cell_type": "code",
   "execution_count": 13,
   "id": "90f79d6f",
   "metadata": {},
   "outputs": [
    {
     "name": "stdout",
     "output_type": "stream",
     "text": [
      "17\n",
      "it's prime\n"
     ]
    }
   ],
   "source": [
    "x=int(input())\n",
    "prime_flag=True\n",
    "for i  in range(2,x):\n",
    "    if x%i==0:\n",
    "        prime_flag=False\n",
    "        break\n",
    "if prime_flag==True:\n",
    "    print(\"it's prime\")\n",
    "else:\n",
    "    print(\"it's not prime\")\n",
    "    "
   ]
  },
  {
   "cell_type": "markdown",
   "id": "0be87322",
   "metadata": {
    "id": "0be87322"
   },
   "source": [
    "### 29. Use list comprehension to obtain the square of first 10 natural numbers."
   ]
  },
  {
   "cell_type": "code",
   "execution_count": 1,
   "id": "34a60100",
   "metadata": {
    "id": "34a60100",
    "outputId": "47b0c241-6e0c-400a-f705-de939b16fab9"
   },
   "outputs": [
    {
     "name": "stdout",
     "output_type": "stream",
     "text": [
      "10\n",
      "[1, 4, 9, 16, 25, 36, 49, 64, 81, 100]\n"
     ]
    }
   ],
   "source": [
    "n = int(input())\n",
    "\n",
    "final_list = [n**2 for n in range(1, n+1)]\n",
    "\n",
    "print(final_list)"
   ]
  },
  {
   "cell_type": "code",
   "execution_count": 3,
   "id": "68ad892f",
   "metadata": {},
   "outputs": [
    {
     "name": "stdout",
     "output_type": "stream",
     "text": [
      "[1, 4, 9, 16, 25, 36, 49, 64, 81, 100]\n"
     ]
    }
   ],
   "source": [
    "l=[i**2 for i in range(1,11)]\n",
    "print(l)"
   ]
  },
  {
   "cell_type": "markdown",
   "id": "53ebb86a",
   "metadata": {
    "id": "53ebb86a"
   },
   "source": [
    "### 30. Use list comprehension to find the used vowels in a given sentence.\n",
    "\n",
    "Use the sentence below:\n",
    "\n",
    "sentence = 'Data Analytics at Great Learning'"
   ]
  },
  {
   "cell_type": "code",
   "execution_count": 16,
   "id": "45a0b9b6",
   "metadata": {
    "id": "45a0b9b6",
    "outputId": "9b0d4359-1563-4369-8d9e-4e0d6eddab13"
   },
   "outputs": [
    {
     "name": "stdout",
     "output_type": "stream",
     "text": [
      "a\n",
      "a\n",
      "a\n",
      "i\n",
      "a\n",
      "e\n",
      "a\n",
      "e\n",
      "a\n",
      "i\n"
     ]
    }
   ],
   "source": [
    "sentence = 'Data Analytics at Great Learning'\n",
    "\n",
    "for w in sentence:\n",
    "    if w[0] in 'aeiou':\n",
    "        print(w)"
   ]
  },
  {
   "cell_type": "code",
   "execution_count": 20,
   "id": "92e9e578",
   "metadata": {},
   "outputs": [
    {
     "name": "stdout",
     "output_type": "stream",
     "text": [
      "{'a', 'i', 'e'}\n"
     ]
    }
   ],
   "source": [
    "vowels=['a','e','i','o','u']\n",
    "sentence = 'Data Analytics at Great Learning'\n",
    "used_vowels=set([letter.lower()  for letter in sentence if letter.lower() in vowels])\n",
    "print(used_vowels)"
   ]
  },
  {
   "cell_type": "markdown",
   "id": "7086c9fe",
   "metadata": {
    "id": "7086c9fe"
   },
   "source": [
    "### 31. Use list comprehension to print numbers divisible by 2 and 3 in between 1 and 100."
   ]
  },
  {
   "cell_type": "code",
   "execution_count": 20,
   "id": "4996349b",
   "metadata": {
    "id": "4996349b",
    "outputId": "11673d4c-4212-4756-c27b-b149a94a029f"
   },
   "outputs": [
    {
     "name": "stdout",
     "output_type": "stream",
     "text": [
      "6\n",
      "12\n",
      "18\n",
      "24\n",
      "30\n",
      "36\n",
      "42\n",
      "48\n",
      "54\n",
      "60\n",
      "66\n",
      "72\n",
      "78\n",
      "84\n",
      "90\n",
      "96\n"
     ]
    }
   ],
   "source": [
    "for i in range(1,101):\n",
    "   if((i%2==0) & (i%3==0)):\n",
    "      print(i)\n",
    "        "
   ]
  },
  {
   "cell_type": "code",
   "execution_count": 21,
   "id": "e58c3397",
   "metadata": {},
   "outputs": [
    {
     "name": "stdout",
     "output_type": "stream",
     "text": [
      "[6, 12, 18, 24, 30, 36, 42, 48, 54, 60, 66, 72, 78, 84, 90, 96]\n"
     ]
    }
   ],
   "source": [
    "l=[i for i in range(1,101) if i%6==0 ]\n",
    "print(l)"
   ]
  },
  {
   "cell_type": "markdown",
   "id": "82f7b3f8",
   "metadata": {
    "id": "82f7b3f8"
   },
   "source": [
    "### 32. Use list comprehension to extract numbers from a string"
   ]
  },
  {
   "cell_type": "markdown",
   "id": "99e8bcce",
   "metadata": {
    "id": "99e8bcce"
   },
   "source": [
    "**Use the string below\"**\n",
    "\n",
    "string = \"hello 6645 World\""
   ]
  },
  {
   "cell_type": "code",
   "execution_count": 26,
   "id": "6d111f54",
   "metadata": {
    "id": "6d111f54",
    "outputId": "cb900840-119a-4877-ea14-94f3a494fea9"
   },
   "outputs": [
    {
     "name": "stdout",
     "output_type": "stream",
     "text": [
      "[6645]\n"
     ]
    }
   ],
   "source": [
    "string = \"hello 6645 World\"\n",
    "numbers = [int(n) for n in str.split(string) if n.isdigit()]\n",
    "print(numbers)\n"
   ]
  },
  {
   "cell_type": "code",
   "execution_count": 25,
   "id": "7751a8ff",
   "metadata": {},
   "outputs": [
    {
     "data": {
      "text/plain": [
       "['6645']"
      ]
     },
     "execution_count": 25,
     "metadata": {},
     "output_type": "execute_result"
    }
   ],
   "source": [
    "string = \"hello 6645 World\"\n",
    "string.split()\n",
    "[w for w in string.split() if w.isnumeric()==True]"
   ]
  },
  {
   "cell_type": "code",
   "execution_count": 26,
   "id": "e13b194d",
   "metadata": {},
   "outputs": [
    {
     "data": {
      "text/plain": [
       "['6', '6', '4', '5', '7', '8', '9']"
      ]
     },
     "execution_count": 26,
     "metadata": {},
     "output_type": "execute_result"
    }
   ],
   "source": [
    "s='hello 6645 world7 89'\n",
    "[l for l in s if l.isnumeric()==True]"
   ]
  },
  {
   "cell_type": "code",
   "execution_count": 41,
   "id": "4cf03e18",
   "metadata": {},
   "outputs": [
    {
     "name": "stdout",
     "output_type": "stream",
     "text": [
      "1 4\n",
      "2 5\n",
      "3 6\n"
     ]
    }
   ],
   "source": [
    "l1=[1,2,3]\n",
    "l2=[4,5,6]\n",
    "for (x,y) in zip(l1,l2):\n",
    "    print(x,y)\n",
    "    "
   ]
  },
  {
   "cell_type": "code",
   "execution_count": 42,
   "id": "d62f4dfb",
   "metadata": {},
   "outputs": [],
   "source": [
    "for i in range(10):\n",
    "    if i<=5:\n",
    "        break\n",
    "    print(i)"
   ]
  },
  {
   "cell_type": "markdown",
   "id": "0aca8933",
   "metadata": {
    "id": "0aca8933"
   },
   "source": [
    "------\n",
    "### Happy Learning :)\n",
    "------"
   ]
  }
 ],
 "metadata": {
  "colab": {
   "provenance": []
  },
  "kernelspec": {
   "display_name": "Python 3 (ipykernel)",
   "language": "python",
   "name": "python3"
  },
  "language_info": {
   "codemirror_mode": {
    "name": "ipython",
    "version": 3
   },
   "file_extension": ".py",
   "mimetype": "text/x-python",
   "name": "python",
   "nbconvert_exporter": "python",
   "pygments_lexer": "ipython3",
   "version": "3.11.1"
  }
 },
 "nbformat": 4,
 "nbformat_minor": 5
}
